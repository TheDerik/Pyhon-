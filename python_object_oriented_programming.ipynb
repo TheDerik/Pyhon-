{
  "nbformat": 4,
  "nbformat_minor": 0,
  "metadata": {
    "colab": {
      "provenance": [],
      "authorship_tag": "ABX9TyOV9+1U8UjxSO/WsWQgAhoo",
      "include_colab_link": true
    },
    "kernelspec": {
      "name": "python3",
      "display_name": "Python 3"
    },
    "language_info": {
      "name": "python"
    }
  },
  "cells": [
    {
      "cell_type": "markdown",
      "metadata": {
        "id": "view-in-github",
        "colab_type": "text"
      },
      "source": [
        "<a href=\"https://colab.research.google.com/github/TheDerik/Pyhon-/blob/main/python_object_oriented_programming.ipynb\" target=\"_parent\"><img src=\"https://colab.research.google.com/assets/colab-badge.svg\" alt=\"Open In Colab\"/></a>"
      ]
    },
    {
      "cell_type": "markdown",
      "source": [
        "#What is a class:"
      ],
      "metadata": {
        "id": "gRR0q8YdkQ11"
      }
    },
    {
      "cell_type": "code",
      "execution_count": null,
      "metadata": {
        "id": "thTEbKVOhrkD"
      },
      "outputs": [],
      "source": [
        "# classes and objects\n",
        "class vehicle():  # creating a class\n",
        "  wheels = 2    # class attributes or class variables\n",
        "  maxspeed = 100\n",
        "\n",
        "bike = vehicle()        # object creation 'obj = Class()'\n",
        "motorbike = vehicle()\n",
        "\n",
        "print(bike.wheels)          # bike using wheels attribute from vehicle class\n",
        "print(motorbike.maxspeed)   # motorbike using wheels attribute from vehicle class"
      ]
    },
    {
      "cell_type": "code",
      "source": [
        "# Class attributes\n",
        "class pet():\n",
        "  age = 0\n",
        "  name = \"\"\n",
        "\n",
        "cat = pet() # object creation, now cat is an object of class pet\n",
        "cat.age = 3\n",
        "cat.name = \"Tom\"\n",
        "print(cat.age)\n",
        "print(cat.name)\n",
        "\n",
        "mouse = pet() # object creation, now mouse is an object of class pet\n",
        "mouse.age = 4\n",
        "mouse.name = \"Jerry\"\n",
        "print(mouse.age)\n",
        "print(mouse.name)"
      ],
      "metadata": {
        "id": "MbOJp5nAbAtp"
      },
      "execution_count": null,
      "outputs": []
    },
    {
      "cell_type": "code",
      "source": [
        "# Object types\n",
        "\n",
        "class pet():\n",
        "  age = 0\n",
        "  name = \"\"\n",
        "\n",
        "class vehicle():\n",
        "  wheels = 2\n",
        "  cwheels = 4\n",
        "  maxspeed = 100\n",
        "\n",
        "dog = pet ()    # creating multiple objects from the class\n",
        "lion = pet ()\n",
        "glamour = vehicle()\n",
        "Thar = vehicle()\n",
        "\n",
        "dog.age = 10\n",
        "dog.name = \"Tommy\"\n",
        "print(dog.age)\n",
        "print(dog.name)\n",
        "print(glamour.wheels)\n",
        "print(Thar.cwheels)\n",
        "\n"
      ],
      "metadata": {
        "id": "JQbmQgd0cxWB"
      },
      "execution_count": null,
      "outputs": []
    },
    {
      "cell_type": "code",
      "source": [
        "# Class methods\n",
        "\n",
        "class birds():\n",
        "  def fly(self):  # 'self' allows to access instance variables and other methods within the class.\n",
        "    print(\"Flying\")\n",
        "\n",
        "parrot = birds()  # object creation\n",
        "sparrow = birds()\n",
        "\n",
        "parrot.fly()  # calling the function\n",
        "sparrow.fly()"
      ],
      "metadata": {
        "id": "iiwAdj6jixiR"
      },
      "execution_count": null,
      "outputs": []
    },
    {
      "cell_type": "markdown",
      "source": [
        "#More on classes:\n"
      ],
      "metadata": {
        "id": "xnMyCuS5ltMg"
      }
    },
    {
      "cell_type": "code",
      "source": [
        "# Constructor - automatically called when an object of the class is created, used to initialize the attributes of the object\n",
        "'''Key facts\n",
        "    *A constructor is the first method called upon creating an object\n",
        "    *A constructor is defined as def __init__():\n",
        "    *If a constructor is not defined, Python creates an empty constructor'''\n",
        "\n",
        "class birds():\n",
        "  def __init__(self, name, age):  # constructor is created using '__init__' keyword\n",
        "    self.name = name  # initializes an instance variable 'name' where name will be stored\n",
        "    self.age = age    # initializes an instance variable 'age' where age will be stored\n",
        "    print(self.name)\n",
        "    print(self.age)\n",
        "\n",
        "  def fly(self):\n",
        "    print(\"Flying\")\n",
        "\n",
        "parrot = birds(\"Tota\",4)  # constructor is called with the argument \"Tota\" and \"4\"\n",
        "sparrow = birds(\"Gano\",5)\n",
        "\n",
        "parrot.fly()\n",
        "sparrow.fly()\n"
      ],
      "metadata": {
        "id": "OYY0w3RRlxWO"
      },
      "execution_count": null,
      "outputs": []
    },
    {
      "cell_type": "code",
      "source": [
        "# Destructor\n",
        "\n",
        "class vehicle():\n",
        "  wheels = 2\n",
        "  maxspeed = 100\n",
        "\n",
        "  def __init__(self): # Constructor\n",
        "    print(\"Object Created\") # Destructor\n",
        "\n",
        "  def __del__(self):\n",
        "    print(\"Object deleted\")\n",
        "\n",
        "bike = vehicle()  # object created so calling constructor\n",
        "del bike   # object deleted so calling destructor\n"
      ],
      "metadata": {
        "id": "LjcIRda3pqaY"
      },
      "execution_count": null,
      "outputs": []
    },
    {
      "cell_type": "code",
      "source": [
        "# Private variables - variables that can't be accessed outside a class\n",
        "\n",
        "class vehicle():\n",
        "  __speed = 5 # '__' is added before variable to make it private\n",
        "\n",
        "spd = vehicle()\n",
        "print(spd.speed)  # now it cannot call speed so error\n",
        "#Although it can be accessed by - \" print(spd._vehicle__speed) \"\"  # Accessing the private variable using name mangling\n"
      ],
      "metadata": {
        "id": "g0QsBV-LsJWp"
      },
      "execution_count": null,
      "outputs": []
    },
    {
      "cell_type": "code",
      "source": [
        "# a private variable can be accsessed if a function is called\n",
        "\n",
        "class vehicle():\n",
        "  __speed = 5 # Private class variable\n",
        "\n",
        "  def getspeed(self):\n",
        "    return self.__speed # Method to retrieve the private variable\n",
        "\n",
        "  def setspeed(self, speed):  # new method to modify the speed\n",
        "    self.__speed = speed\n",
        "\n",
        "spd = vehicle()\n",
        "spd.setspeed(100)\n",
        "print(spd.getspeed())  # Calling the method to retrieve"
      ],
      "metadata": {
        "id": "pQ5i4LcXtk0J"
      },
      "execution_count": null,
      "outputs": []
    },
    {
      "cell_type": "markdown",
      "source": [
        "#Inheritance:"
      ],
      "metadata": {
        "id": "V74eK67Vz-3b"
      }
    },
    {
      "cell_type": "code",
      "source": [
        "class vehicle():  # Super class\n",
        "  speed = 100     # As both car and bike has same speed so it is stored in super class so both can access it\n",
        "\n",
        "class car(vehicle):   # sub class\n",
        "  wheels = 4\n",
        "class bike(vehicle):  # sub class\n",
        "  wheels = 2\n",
        "\n",
        "glamour_obj = bike() # object creation\n",
        "thar_obj = car()\n",
        "print(f\"Speed of bike:{glamour_obj.speed} and wheels in bike:{glamour_obj.wheels}\")  # Accessing the speed attribute directly through the super class\n",
        "print(f\"Speed of car:{thar_obj.speed} and wheels in car:{thar_obj.wheels}\")"
      ],
      "metadata": {
        "id": "Wju0sSX_0Bdz"
      },
      "execution_count": null,
      "outputs": []
    },
    {
      "cell_type": "code",
      "source": [
        "# Inheriting methods\n",
        "\n",
        "class vehicle():\n",
        "  speed = 100\n",
        "  def start(self):  # Parent class method\n",
        "    print(\"starting\")\n",
        "\n",
        "class car(vehicle):\n",
        "  wheels = 4\n",
        "class bike(vehicle):\n",
        "  wheels = 2\n",
        "  def stop(self):\n",
        "    print(\"stoping\")\n",
        "\n",
        "obj = bike()\n",
        "obj.start() # using the method of parent(vehicle) class\n",
        "obj.stop()  # using the method of child(bike) class\n",
        "\n"
      ],
      "metadata": {
        "id": "i7IBhrJq5j5N"
      },
      "execution_count": null,
      "outputs": []
    },
    {
      "cell_type": "code",
      "source": [
        "# Multiple Inheritance\n",
        "class vehicle():  # Parent class\n",
        "  speed = 100\n",
        "\n",
        "class engine():   # Another parent class\n",
        "  gear = 5\n",
        "\n",
        "class car(vehicle):\n",
        "  wheels = 4\n",
        "class bike(vehicle, engine):  # using both super classes\n",
        "  wheels = 2\n",
        "\n",
        "obj = bike()\n",
        "print(obj.gear)   # accessing from engine class\n",
        "print(obj.speed)  # accessing from vehicle class"
      ],
      "metadata": {
        "id": "pYvPzb6L8VDK"
      },
      "execution_count": null,
      "outputs": []
    },
    {
      "cell_type": "code",
      "source": [
        "# Method Override\n",
        "# If a method exists in both the parent class and the child class, the childs class method is used\n",
        "\n",
        "class vehicle():\n",
        "  def wheels(self):\n",
        "    wheels = 4\n",
        "    print(wheels)\n",
        "\n",
        "class bike(vehicle):\n",
        "  def wheels(self): # This method overrides the wheels() method in the parent class\n",
        "    wheels = 2\n",
        "    print(wheels)\n",
        "\n",
        "kawasaki = bike()\n",
        "kawasaki.wheels()  # fetching from the bike class"
      ],
      "metadata": {
        "colab": {
          "base_uri": "https://localhost:8080/"
        },
        "id": "nYoOD_Loa21A",
        "outputId": "c160a2d3-f50b-41d1-9aba-cd8a8f2cd233"
      },
      "execution_count": null,
      "outputs": [
        {
          "output_type": "stream",
          "name": "stdout",
          "text": [
            "2\n"
          ]
        }
      ]
    },
    {
      "cell_type": "markdown",
      "source": [
        "#Advanced OOPS:"
      ],
      "metadata": {
        "id": "3vP9JfwieJ1h"
      }
    },
    {
      "cell_type": "code",
      "source": [
        "# Method overloading - Python doesn't support method overloading\n",
        "\n",
        "def product(a,b,c): # this method will not work\n",
        "  print(a*b*c)\n",
        "\n",
        "def product(a,b): # the last updated method will only work\n",
        "  print(a*b)\n",
        "\n",
        "product(4,5)  # if product(4,5,6) then error as it does not support any other lanauge would give accurate answer"
      ],
      "metadata": {
        "colab": {
          "base_uri": "https://localhost:8080/"
        },
        "id": "kH1qBZvceMU9",
        "outputId": "72824799-79ec-45c8-c795-cf18af521157"
      },
      "execution_count": null,
      "outputs": [
        {
          "output_type": "stream",
          "name": "stdout",
          "text": [
            "20\n"
          ]
        }
      ]
    }
  ]
}