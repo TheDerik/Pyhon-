{
  "nbformat": 4,
  "nbformat_minor": 0,
  "metadata": {
    "colab": {
      "provenance": [],
      "authorship_tag": "ABX9TyOgotNeOHa6GeFlE6In2Pxl",
      "include_colab_link": true
    },
    "kernelspec": {
      "name": "python3",
      "display_name": "Python 3"
    },
    "language_info": {
      "name": "python"
    }
  },
  "cells": [
    {
      "cell_type": "markdown",
      "metadata": {
        "id": "view-in-github",
        "colab_type": "text"
      },
      "source": [
        "<a href=\"https://colab.research.google.com/github/TheDerik/Python/blob/main/Learn_Complete_Python_Programming_in_2023_Zero_to_Mastery_.ipynb\" target=\"_parent\"><img src=\"https://colab.research.google.com/assets/colab-badge.svg\" alt=\"Open In Colab\"/></a>"
      ]
    },
    {
      "cell_type": "markdown",
      "source": [
        "# **Datatypes:**"
      ],
      "metadata": {
        "id": "pE0O8ICVXu17"
      }
    },
    {
      "cell_type": "code",
      "source": [
        "integers = 1, 23, 43\n",
        "float    = 1.23, 34.42, 3.41\n",
        "string   = \"DEBRIK\"\n",
        "boolean  = True , False\n",
        "list     = []"
      ],
      "metadata": {
        "id": "6CZPUTELc9iu"
      },
      "execution_count": null,
      "outputs": []
    },
    {
      "cell_type": "markdown",
      "source": [
        "# **Variables:**"
      ],
      "metadata": {
        "id": "cUbn7eNMd04n"
      }
    },
    {
      "cell_type": "code",
      "source": [
        "age = \"21\"\n",
        "\n",
        "print(\"Debrik is \" + age + \" years old.\")\n",
        "print(\"Debrik is\" , age , \"years old.\")\n",
        "print(\"Debrik is {} years old.\".format(age))\n",
        "print(f\"Debrik is {age} years old.\")"
      ],
      "metadata": {
        "id": "V9j118abd4Sh"
      },
      "execution_count": null,
      "outputs": []
    },
    {
      "cell_type": "markdown",
      "source": [
        "# **Strings:**"
      ],
      "metadata": {
        "id": "EA9XMa10gJGm"
      }
    },
    {
      "cell_type": "code",
      "source": [
        "print(\"I am \\nDebrik\")\n",
        "\n",
        "# 'r' is used to make the string a raw string and functions will work\n",
        "print(r\"I am \\nDebrik\")\n",
        "\n",
        "# printing two different print statement in single line using 'end' function\n",
        "print(\"I am 21\",end=\" \")\n",
        "print(\"years old\")\n",
        "\n",
        "print(\"Debrik\" + \"Chakraborty\") # using '+' to concatenate"
      ],
      "metadata": {
        "id": "L9rcnVaagOpS"
      },
      "execution_count": null,
      "outputs": []
    },
    {
      "cell_type": "code",
      "source": [
        "# Lowercase and uppercase\n",
        "name = \"Debrik Chakraborty\"\n",
        "print(name.lower())\n",
        "print(name.upper())\n",
        "\n",
        "# Check if all characters are in upper or lowercase by adding 'is'\n",
        "print(name.islower())\n",
        "print(name.isupper())\n",
        "print(name.lower().islower()) # converting in lower case then checking\n",
        "print(name.upper().isupper()) # converting in upper case then checking"
      ],
      "metadata": {
        "id": "EGeOKVyg5EBs"
      },
      "execution_count": null,
      "outputs": []
    },
    {
      "cell_type": "code",
      "source": [
        "# Length of a string\n",
        "print(len(name))\n",
        "\n",
        "# Indexing\n",
        "print(name[2])\n",
        "print(name[-2])\n",
        "print(name[2:-2]) # from 2 upto element before -2\n",
        "print(name[:-2])\n",
        "print(name[2:])\n",
        "print(name[::2]) # skips 2nd element character\n",
        "print(name[::-1]) # reverse the whole string\n",
        "\n",
        "# Finding index\n",
        "print(name.index(\"a\"))\n",
        "\n",
        "# replacing a character whith another\n",
        "print(name.replace(\"a\",\"e\"))\n",
        "print(name.replace(\"Debrik\",\"Nikita\"))"
      ],
      "metadata": {
        "id": "BL_VF_ql5ENZ"
      },
      "execution_count": null,
      "outputs": []
    },
    {
      "cell_type": "code",
      "source": [
        "# Reverse string\n",
        "string_1 = \"Debrik\"\n",
        "print(string_1[::-1])\n",
        "\n",
        "# Palindrome check\n",
        "string_2 = \"madam\"\n",
        "palindrome = string_2 == string_2[::-1]\n",
        "print(palindrome)\n",
        "\n",
        "#vowels cheack\n",
        "string_3 = \"My name is Debrik\"\n",
        "vowels= \"AEIOUaeiou\"\n",
        "count = 0\n",
        "for char in string_3:\n",
        "  if char in vowels:\n",
        "    count = count+1\n",
        "print(count)"
      ],
      "metadata": {
        "id": "WC0a26y15EW4"
      },
      "execution_count": null,
      "outputs": []
    },
    {
      "cell_type": "markdown",
      "source": [
        "# **Numbers:**"
      ],
      "metadata": {
        "id": "6kG2-RigxxlI"
      }
    },
    {
      "cell_type": "code",
      "source": [
        "print(10/2)  # output in float\n",
        "print(10//2) # output in integer\n",
        "print(10%2)  # modulus provides the remainder\n",
        "\n",
        "# String and number concatenate\n",
        "print(\"My age is \" + str(21))\n",
        "\n",
        "# Converting Negative to Positive numbers using absolute function\n",
        "print(abs(-21))\n",
        "print(abs(21))\n",
        "\n",
        "# Maximum and minimum value using max and min function\n",
        "print(max(23,43,542,-12,43))\n",
        "print(min(23,43,542,-12,43))\n",
        "\n",
        "# Rounding a float value\n",
        "print(round(5.6))\n",
        "print(round(5.4))"
      ],
      "metadata": {
        "id": "luKJsj-dx133"
      },
      "execution_count": null,
      "outputs": []
    },
    {
      "cell_type": "code",
      "source": [
        "from math import *\n",
        "\n",
        "#Ceiling and Floor function\n",
        "print(ceil(5.4))  # always gives the upper value\n",
        "print(floor(5.6)) # always gives the lower value\n",
        "\n",
        "# Squareroot\n",
        "print(sqrt(50))"
      ],
      "metadata": {
        "id": "npj0Kb1N9wBJ"
      },
      "execution_count": null,
      "outputs": []
    },
    {
      "cell_type": "markdown",
      "source": [
        "**Assignment:** To calculates the area of a rectangle"
      ],
      "metadata": {
        "id": "XN4wD42fDdxL"
      }
    },
    {
      "cell_type": "code",
      "source": [
        "a=int(input(\"Enter the length:\"))\n",
        "b=int(input(\"Enter the width:\"))\n",
        "area= a*b\n",
        "print(\"The area of the rectangle is\",area)"
      ],
      "metadata": {
        "id": "2rzsgFbm-t9L"
      },
      "execution_count": null,
      "outputs": []
    },
    {
      "cell_type": "markdown",
      "source": [
        "**Assignment:** To convert temperatures from Fahrenheit to Celsius"
      ],
      "metadata": {
        "id": "Icj_EHOBDdEz"
      }
    },
    {
      "cell_type": "code",
      "source": [
        "f=int(input(\"Enter the temperature in Fahrenheit:\"))\n",
        "c = ((f - 32) * 5/9)\n",
        "print(\"The temperature in Celsius is:\",c)\n"
      ],
      "metadata": {
        "id": "RBn9OUMK_LKR"
      },
      "execution_count": null,
      "outputs": []
    },
    {
      "cell_type": "markdown",
      "source": [
        "**Assignment:** To calculate the sum of the first n natural numbers"
      ],
      "metadata": {
        "id": "yb3_wHrmDKF6"
      }
    },
    {
      "cell_type": "code",
      "source": [
        "n=int(input(\"Enter a number:\"))\n",
        "sum = 0\n",
        "for i in range(1,n+1):\n",
        "  sum = i + sum\n",
        "print(sum)"
      ],
      "metadata": {
        "id": "A-qe4-N-AoyY"
      },
      "execution_count": null,
      "outputs": []
    },
    {
      "cell_type": "code",
      "source": [
        "a=int(input())\n",
        "b=int(input())\n",
        "print(a+b)\n",
        "print(a-b)\n",
        "print(a*b)"
      ],
      "metadata": {
        "id": "j79XHW3CDzo0"
      },
      "execution_count": null,
      "outputs": []
    },
    {
      "cell_type": "markdown",
      "source": [
        "# Lists:"
      ],
      "metadata": {
        "id": "DuiAk9W3AnPt"
      }
    },
    {
      "cell_type": "code",
      "source": [
        "avengers = [\"Iron Man\",\"Captain America\",\"Thor\",\"Hulk\",\"Dr. Strange\",\"Spiderman\",23,34,True,False]\n",
        "print(avengers)\n",
        "print(avengers[2])\n",
        "print(avengers[2:4])\n",
        "print(avengers[2][3]) # indexing inside a particular element"
      ],
      "metadata": {
        "id": "EeK8vlG3Apq-"
      },
      "execution_count": null,
      "outputs": []
    },
    {
      "cell_type": "code",
      "source": [
        "# Replacing element in a list\n",
        "avengers[7] = \"Deadpool\"\n",
        "print(avengers)"
      ],
      "metadata": {
        "id": "LeJrX3tjTjJY"
      },
      "execution_count": null,
      "outputs": []
    },
    {
      "cell_type": "code",
      "source": [
        "avengers = [\"Iron Man\",\"Captain America\",\"Thor\",\"Hulk\",\"Dr. Strange\",\"Spiderman\"]\n",
        "numbers = [1,2,3,4,5,6]\n",
        "\n",
        "# index of an element\n",
        "print(avengers.index(\"Thor\"))\n",
        "\n",
        "# count of an element\n",
        "print(avengers.count(\"Thor\"))\n",
        "\n",
        "# Concatenating two lists using 'extend' function\n",
        "avengers.extend(numbers)\n",
        "print(avengers)\n",
        "\n",
        "# adding an element using 'append' function\n",
        "avengers.append(\"Black Panther\")\n",
        "print(avengers)"
      ],
      "metadata": {
        "id": "e4wPQM5iUAbi"
      },
      "execution_count": null,
      "outputs": []
    },
    {
      "cell_type": "code",
      "source": [
        "# inserting an element in between a list\n",
        "avengers.insert(1,\"Black Widow\")\n",
        "print(avengers)\n",
        "\n",
        "# popping the last element\n",
        "avengers.pop()\n",
        "print(avengers)\n",
        "\n",
        "# removing an element between a list\n",
        "avengers.remove(\"Hulk\")\n",
        "print(avengers)"
      ],
      "metadata": {
        "id": "IdTp7xFGWheF"
      },
      "execution_count": null,
      "outputs": []
    },
    {
      "cell_type": "code",
      "source": [
        "# sorting the list in ascending order\n",
        "avengers = [\"Iron Man\",\"Captain America\",\"Thor\",\"Hulk\",\"Dr. Strange\",\"Spiderman\"]\n",
        "avengers.sort()\n",
        "print(avengers)\n",
        "\n",
        "# sorting the list in desecending order\n",
        "avengers.sort(reverse=True)\n",
        "print(avengers)\n",
        "\n",
        "# copy into a new list\n",
        "avengers_new = avengers.copy()\n",
        "print(avengers)\n"
      ],
      "metadata": {
        "id": "p3d56wCcW68L"
      },
      "execution_count": null,
      "outputs": []
    },
    {
      "cell_type": "code",
      "source": [
        "# average of a list\n",
        "numbers = [1,2,3,4,5]\n",
        "sum = 0\n",
        "for i in numbers:\n",
        "  sum = i + sum\n",
        "avg = sum/(len(numbers))\n",
        "print(avg)\n"
      ],
      "metadata": {
        "id": "UgJ13iizVVOG"
      },
      "execution_count": null,
      "outputs": []
    },
    {
      "cell_type": "code",
      "source": [
        "# taking list inputs from user array concept\n",
        "def average():\n",
        "   sum = 0\n",
        "   n = int(input(\"How many numbers you want to enter: \"))\n",
        "   for i in range(n):\n",
        "       sum+=int(input(\"Enter the number\"))\n",
        "\n",
        "   return sum/n\n",
        "\n",
        "print(average())"
      ],
      "metadata": {
        "id": "NjSo750XUx-7"
      },
      "execution_count": null,
      "outputs": []
    },
    {
      "cell_type": "code",
      "source": [
        "# taking list input from the user\n",
        "ls = []\n",
        "n = int(input(\"Enter the number of integers to stored in the list:\"))\n",
        "for i in range (0,n):\n",
        "  elements= int(input())\n",
        "  ls.append(elements)\n",
        "print(ls)"
      ],
      "metadata": {
        "id": "LdJrbovcV8Hh"
      },
      "execution_count": null,
      "outputs": []
    },
    {
      "cell_type": "markdown",
      "source": [
        "# Tuples:"
      ],
      "metadata": {
        "id": "YV-aVTI3g19E"
      }
    },
    {
      "cell_type": "code",
      "source": [
        "tuple1 = (1,2,3,4,5)\n",
        "print(tuple1)\n",
        "\n",
        "# tuple inside a list\n",
        "list1 = [(1,2),(3,4),(5,6),(7,8),(9,10)]\n",
        "print(list1)\n",
        "\n",
        "# changing a whole tuple inside a list\n",
        "list1[-1] = (11,12)\n",
        "print(list1)"
      ],
      "metadata": {
        "id": "BxREfchIg7Uc"
      },
      "execution_count": null,
      "outputs": []
    },
    {
      "cell_type": "markdown",
      "source": [
        "**Assignment:** For this assignment, you will need to complete the following tasks:\n",
        "\n",
        "\n"
      ],
      "metadata": {
        "id": "zTU3f7n_w7Ex"
      }
    },
    {
      "cell_type": "markdown",
      "source": [
        "**Assignment:** For this assignment, you will need to complete the following tasks:\n",
        "\n",
        "Task 1: Create a Tuple Create a tuple named \"fruits\" that contains the following values: \"apple\", \"banana\", \"cherry\", and \"orange\".\n",
        "\n",
        "Task 2: Access Tuple Elements Print the second element in the fruits tuple.\n",
        "\n",
        "Task 3: Iterate through a Tuple Loop through the fruits tuple and print each value.\n",
        "\n",
        "Task 4: Check if an Element Exists in a Tuple Check if \"banana\" is present in the fruits tuple.\n",
        "\n",
        "Task 5: Tuple Length Print the length of the fruits tuple.\n",
        "\n",
        "Task 6: Tuple Slicing Create a new tuple named \"new_fruits\" that contains the first two elements from the fruits tuple.\n",
        "\n",
        "Task 7: Tuple Unpacking Create a tuple named \"person\" that contains the following values: \"John\", 25, \"male\". Then, unpack the values of the tuple into three variables: name, age, and gender."
      ],
      "metadata": {
        "id": "2rbSvR10xJ8D"
      }
    },
    {
      "cell_type": "code",
      "source": [
        "# task1\n",
        "fruits = (\"apple\", \"banana\", \"cherry\", \"orange\")\n",
        "\n",
        "#task2\n",
        "print(fruits[1])\n",
        "\n",
        "#task3\n",
        "for i in fruits:\n",
        "  print(i)\n",
        "\n",
        "#task4\n",
        "if \"banana\" in fruits:\n",
        "  print(\"Present\")\n",
        "\n",
        "# task5\n",
        "print(len(fruits))\n",
        "\n",
        "#task6\n",
        "new_fruits = fruits[0:2]\n",
        "print(new_fruits)\n",
        "\n",
        "#task7\n",
        "person = (\"John\", 25, \"male\")\n",
        "name, age, gender = person\n",
        "print(\"name:\",name)\n",
        "print(\"age:\",age)\n",
        "print(\"gender:\",gender)"
      ],
      "metadata": {
        "colab": {
          "base_uri": "https://localhost:8080/"
        },
        "id": "MWAKDFdYw-vE",
        "outputId": "dc9db4b7-35b7-4716-f838-7f5a74e1ce34"
      },
      "execution_count": null,
      "outputs": [
        {
          "output_type": "stream",
          "name": "stdout",
          "text": [
            "banana\n",
            "apple\n",
            "banana\n",
            "cherry\n",
            "orange\n",
            "Present\n",
            "4\n",
            "('apple', 'banana')\n",
            "name: John\n",
            "age: 25\n",
            "gender: male\n"
          ]
        }
      ]
    },
    {
      "cell_type": "markdown",
      "source": [
        "# Dictionaries:"
      ],
      "metadata": {
        "id": "6A3zAF2vjK0S"
      }
    },
    {
      "cell_type": "code",
      "source": [
        "dict1 = {'a':\"apple\", \"b\":\"banana\", \"c\":\"cat\", \"d\":\"dog\"}\n",
        "print(dict1)\n",
        "\n",
        "# calling a key\n",
        "print(dict1[\"b\"])"
      ],
      "metadata": {
        "id": "gcNz7l3UjUnG"
      },
      "execution_count": null,
      "outputs": []
    },
    {
      "cell_type": "markdown",
      "source": [
        "# Functions:"
      ],
      "metadata": {
        "id": "1VHmYy4HyjeU"
      }
    },
    {
      "cell_type": "code",
      "source": [
        "def new_fun(): # creating a function\n",
        "  print(\"My first function\")\n",
        "\n",
        "new_fun()  # calling the function"
      ],
      "metadata": {
        "colab": {
          "base_uri": "https://localhost:8080/"
        },
        "id": "BaRZQufwyljR",
        "outputId": "544b87c0-0893-44bb-d7a4-39fbb355a06d"
      },
      "execution_count": null,
      "outputs": [
        {
          "output_type": "stream",
          "name": "stdout",
          "text": [
            "My first function\n"
          ]
        }
      ]
    },
    {
      "cell_type": "code",
      "source": [
        "def add(a,b):\n",
        "  c = a + b\n",
        "  print(c)\n",
        "\n",
        "add(2,3)  # assingning values to the function parameter\n"
      ],
      "metadata": {
        "id": "DAz6gDsTzyWr"
      },
      "execution_count": null,
      "outputs": []
    },
    {
      "cell_type": "code",
      "source": [
        "# return statement\n",
        "def cube(num):\n",
        "  n = num*num*num\n",
        "  return n  #return the value of 'n' if not used then output will be None and return should be at the last line of the function\n",
        "\n",
        "print(cube(3))"
      ],
      "metadata": {
        "id": "DFJPpTV455vw"
      },
      "execution_count": null,
      "outputs": []
    },
    {
      "cell_type": "markdown",
      "source": [
        "**Assignment:** Write a Python function that takes two numbers as parameters and returns the sum of the squares of those numbers.\n",
        "\n",
        "Example Input:\n",
        "\n",
        "square_sum(3, 4)\n",
        "\n",
        "Example Output:\n",
        "\n",
        "25"
      ],
      "metadata": {
        "id": "n49t8NQAQb9K"
      }
    },
    {
      "cell_type": "code",
      "source": [
        "def square_sum(a,b):\n",
        "  a = a*a\n",
        "  b = b*b\n",
        "  print(a+b)\n",
        "\n",
        "square_sum(3,4)\n"
      ],
      "metadata": {
        "id": "Cc_VaRufQf6I"
      },
      "execution_count": null,
      "outputs": []
    },
    {
      "cell_type": "markdown",
      "source": [
        "**Assignment:** Write a Python function that takes a number as a parameter and returns True if the number is even, and False if it is odd.\n",
        "\n",
        "Example Input:\n",
        "\n",
        "is_even(4)\n",
        "\n",
        "Example Output:\n",
        "\n",
        "True"
      ],
      "metadata": {
        "id": "w4SuM3bYQ-qy"
      }
    },
    {
      "cell_type": "code",
      "source": [
        "def is_even(num):\n",
        "  if num % 2 == 0:\n",
        "    return True\n",
        "  else:\n",
        "    return False\n",
        "is_even(4)\n"
      ],
      "metadata": {
        "colab": {
          "base_uri": "https://localhost:8080/"
        },
        "id": "QhKA8HZjRDAe",
        "outputId": "06a514f3-5f55-4e1c-8af0-e94d82393024"
      },
      "execution_count": null,
      "outputs": [
        {
          "output_type": "execute_result",
          "data": {
            "text/plain": [
              "True"
            ]
          },
          "metadata": {},
          "execution_count": 45
        }
      ]
    },
    {
      "cell_type": "markdown",
      "source": [
        "**Assignment:**Write a Python function that takes a list of numbers as input and returns the average of those numbers.\n",
        "\n",
        "Example Input:\n",
        "\n",
        "[1, 2, 3, 4, 5]\n",
        "\n",
        "Example Output:\n",
        "\n",
        "The average is: 3.0"
      ],
      "metadata": {
        "id": "jtbI-92eRg4x"
      }
    },
    {
      "cell_type": "code",
      "source": [
        "def average(num): # taking the value of num list inside\n",
        "  sum = 0\n",
        "  for i in num:\n",
        "    sum = i + sum\n",
        "  avg = sum/(len(num))\n",
        "  print(avg)\n",
        "\n",
        "num = []  # creating a null list\n",
        "n = int(input(\"Enter the number of elements to enter inside the list:\"))\n",
        "for i in range (0,n):\n",
        "  elements = int(input())\n",
        "  num.append(elements)  # adding elements to num list\n",
        "print(num)\n",
        "\n",
        "average(num) # calling the function"
      ],
      "metadata": {
        "id": "GwxcpsJqayZi"
      },
      "execution_count": null,
      "outputs": []
    },
    {
      "cell_type": "markdown",
      "source": [
        "# If Condition:"
      ],
      "metadata": {
        "id": "__-A9NnV7002"
      }
    },
    {
      "cell_type": "code",
      "source": [
        "# maximum of three numbers using functions\n",
        "def max(a,b,c): # defining the function\n",
        "  if a>b and a>c:\n",
        "    print(a)\n",
        "  elif b>a and b>c:\n",
        "    print(b)\n",
        "  else:\n",
        "    print(c)\n",
        "\n",
        "i = int(input(\"Enter the first number:\"))\n",
        "j = int(input(\"Enter the second number:\"))\n",
        "k = int(input(\"Enter the third number:\"))\n",
        "max(i,k,j)  # calling the function\n"
      ],
      "metadata": {
        "id": "C6hDT59M73wL"
      },
      "execution_count": null,
      "outputs": []
    },
    {
      "cell_type": "markdown",
      "source": [
        "**Assignment:**\n",
        "Given an integer,n, perform the following conditional actions:\n",
        "\n",
        "1.If n is odd, print \"alpha\"\n",
        "\n",
        "2.If n is even and in the inclusive range of 5 to 10, print \"beta\"\n",
        "\n",
        "3.If n is even and in the inclusive range of 10 to 20, print \"gamma\"\n",
        "\n",
        "4.If n is even and greater than 45, print \"delta\""
      ],
      "metadata": {
        "id": "qW__4oRqAelI"
      }
    },
    {
      "cell_type": "code",
      "source": [
        "def odd_even(n):\n",
        "  if n%2 != 0:\n",
        "    print(\"Alpha\")\n",
        "  elif n%2 == 0 and n in range(5,10):\n",
        "    print(\"Beta\")\n",
        "  elif n%2 == 0 and n in range(10,20):\n",
        "    print(\"Gamma\")\n",
        "  elif n%2 == 0 and n>45:\n",
        "    print(\"Delta\")\n",
        "  else:\n",
        "    print(\"Wrong Input\")\n",
        "\n",
        "n = int(input(\"Enter the integer:\"))\n",
        "odd_even(n)\n"
      ],
      "metadata": {
        "id": "0d3gOUs5Apil"
      },
      "execution_count": null,
      "outputs": []
    },
    {
      "cell_type": "markdown",
      "source": [
        "#While Loop:"
      ],
      "metadata": {
        "id": "uXyuRoEWDxrE"
      }
    },
    {
      "cell_type": "code",
      "source": [
        "# a simple while loop\n",
        "i = 0\n",
        "while(i<=10): # until this condition is meet it will keep looping the below operations\n",
        "  print(i)\n",
        "  i += 1"
      ],
      "metadata": {
        "id": "egeoE_biD0i1"
      },
      "execution_count": null,
      "outputs": []
    },
    {
      "cell_type": "markdown",
      "source": [
        "#For Loop:"
      ],
      "metadata": {
        "id": "bLiwX_zjFirt"
      }
    },
    {
      "cell_type": "code",
      "source": [
        "# a simple for loop\n",
        "name = \"My name is Debrik\"\n",
        "for i in name:\n",
        "  print(i)"
      ],
      "metadata": {
        "id": "54s8IqXVFl3w"
      },
      "execution_count": null,
      "outputs": []
    },
    {
      "cell_type": "code",
      "source": [
        "# using len function for assigning range\n",
        "for i in range(len(name)):\n",
        "  print(i)"
      ],
      "metadata": {
        "id": "58aWx7LJIpnF"
      },
      "execution_count": null,
      "outputs": []
    },
    {
      "cell_type": "code",
      "source": [
        "# range in for loop\n",
        "for i in range(0,11):\n",
        "  print(i)"
      ],
      "metadata": {
        "id": "5-0-z-y5Gow3"
      },
      "execution_count": null,
      "outputs": []
    },
    {
      "cell_type": "code",
      "source": [
        "# using for loop to create power function\n",
        "def power(num,pow):\n",
        "  res = 1\n",
        "  for i in range(pow):\n",
        "    res = res * num\n",
        "  return res\n",
        "\n",
        "a = int(input(\"Enter the number:\"))\n",
        "b = int(input(\"Enter the power:\"))\n",
        "print(f\"{b} Power of {a} is:\",power(a,b))\n"
      ],
      "metadata": {
        "id": "j6o_VlDuLzGW"
      },
      "execution_count": null,
      "outputs": []
    },
    {
      "cell_type": "code",
      "source": [
        "# nested for loop\n",
        "numbers = [[1,2,3],[4,5,6],[7,8,9]]\n",
        "for i in numbers: # first [1,2,3] get insitialized\n",
        "  for j in i:  # here first 1 then 2 then 3 get initisalized\n",
        "    print(j)"
      ],
      "metadata": {
        "id": "PQpKwHOeO5XS"
      },
      "execution_count": null,
      "outputs": []
    },
    {
      "cell_type": "markdown",
      "source": [
        "#Try and Except:"
      ],
      "metadata": {
        "id": "9qA8erkGHTkI"
      }
    },
    {
      "cell_type": "code",
      "source": [
        "try:\n",
        "\n",
        "  num = int(input(\"Enter an integer:\"))\n",
        "  print(num)\n",
        "\n",
        "except:   # this will execute when the user will give any input other than integer\n",
        "\n",
        "  print(\"Print an interger only\")"
      ],
      "metadata": {
        "id": "GMvSoxJHHYeF"
      },
      "execution_count": null,
      "outputs": []
    },
    {
      "cell_type": "markdown",
      "source": [
        "#File Handeling:"
      ],
      "metadata": {
        "id": "bvTceMH9IDjf"
      }
    },
    {
      "cell_type": "code",
      "source": [
        "# READING LINES\n",
        "file = open(\"Desktop/Netwrk_ID.txt\",\"r\") # path name and type of file and \"r\" used for read\n",
        "print(file.readable())  # Outputs True if present and vice versa\n",
        "print(file.read())  # read the file and give output\n",
        "print(file.readline()) # read only first line\n",
        "print(file.readlines()) # read all the lines but in list form\n",
        "\n",
        "file.close()\n",
        "# Here it will not work as it is in colab"
      ],
      "metadata": {
        "id": "hHob9FHOIt67"
      },
      "execution_count": null,
      "outputs": []
    },
    {
      "cell_type": "code",
      "source": [
        "# WRITING LINES\n",
        "file = open(\"Desktop/Netwrk_ID.txt\",\"a\") # \"a\" used for append or use \"w\" to overwrite a file\n",
        "file.write(\"Debrik\")  # write in the file\n",
        "\n",
        "file.close()"
      ],
      "metadata": {
        "id": "Xu6l9NEnLMoO"
      },
      "execution_count": null,
      "outputs": []
    },
    {
      "cell_type": "code",
      "source": [
        "n = int(input())\n",
        "student_marks = {}\n",
        "for _ in range(n):\n",
        "    name, *line = input().split()\n",
        "    scores = list(map(float, line))\n",
        "    student_marks[name] = scores\n",
        "the_student_name = input()"
      ],
      "metadata": {
        "id": "RyLts2qXMSK8"
      },
      "execution_count": null,
      "outputs": []
    },
    {
      "cell_type": "code",
      "source": [
        "n = int(input())  # taking input for number of students\n",
        "student_marks = {}  # empty dictionary\n",
        "for _ in range(n):\n",
        "    name, *line = input().split() # name, *line = input().split() means that the first element of the list will be assigned to the variable name, and the rest of the\n",
        "                                  # elements of the list will be unpacked into the variable line using '*' operator. split()- splits the input into individual words.\n",
        "    scores = list(map(float, line)) #  using the map() function and float() conversion. The scores variable will hold a list of floating-point numbers. Now lines is scores.\n",
        "    student_marks[name] = scores  # This line updates the student_marks dictionary with the student's name as the key and their list of scores as the corresponding value.\n",
        "the_student_name = input()  # take name for whom the calculation will be done\n",
        "for i in student_marks:   # dictionary inside loop\n",
        "    if i == the_student_name: # searches the output name in the dictionary\n",
        "        Avg = sum(student_marks[the_student_name])/3  # calculating avg for student_marks[for the output student]\n",
        "        print(Avg)"
      ],
      "metadata": {
        "colab": {
          "base_uri": "https://localhost:8080/"
        },
        "id": "CUEJJUtlMTA1",
        "outputId": "92dcecee-f83d-48c4-bb41-f0d6e1a40d37"
      },
      "execution_count": null,
      "outputs": [
        {
          "output_type": "stream",
          "name": "stdout",
          "text": [
            "3\n",
            "Debrik 80 50 60\n",
            "Nikita 90 80 85\n",
            "Rikita 95 95 95\n",
            "Nikita\n",
            "85.0\n"
          ]
        }
      ]
    }
  ]
}